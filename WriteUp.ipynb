{
 "cells": [
  {
   "cell_type": "markdown",
   "id": "e0a7897e",
   "metadata": {},
   "source": [
    "# So You Want to Be a Rockstar\n",
    "\n",
    "### How to Polish Your Brand & Increase Exposure in NYC Using MTA Data (beyond landing gigs)\n",
    "Melissa Cooper\n",
    "\n",
    "## Abstract\n",
    "\n",
    "The goal of this project is use MTA turnstile data to accurately predict the stations with the most weekend traffic. The model will be created for independent musicians or small recording labels in order to increase their visibility and audibility and chances for success.\n",
    "\n",
    "## Design\n",
    "\n",
    "Few musical acts are as well know as the Beatles, but once upon a time even the Beatles had to hustle. Unable to get gigs in the UK, they went to Hamburg, Germany for a nightly residency at a club. During their 7-hour long sessions over several months, they transformed from raw, individual musicians into the polished, cohesive group that would shoot into stardom. \n",
    "\n",
    "I want to help musicians acquire that intensity of experience by finding spaces for them to play. And not just play, but perform for a broad range of people for extended periods of time to really develop their sound, musicianship, and persona.\n",
    "\n",
    "This model will give musicians the best 8-hour time periods and MTA stations in NYC where they will gain the most exposure on the weekends. All independent musicians or small record companies will save time and money when they use this model to seek out their next performance spot.\n",
    "\n",
    "## Data\n",
    "\n",
    "The primary data source is the MTA turnstile data found on the MTA website. The model considers NYC weather and includes data from April through October, skipping the winter months. July and August will be included because it is tourist season, however, the heat and rain could become an issue. The program could be applied to any period of time. However, NYC will not fully open until July 1st and subway ridership is still down 40-60% from pre-pandemic equivalents. (From https://new.mta.info/coronavirus/ridership.) Given that, the data will be sourced from the year 2019, the last normal ridership year. As New York opens up, the model will be run on the most recent data to deliver current busiest stations.\n",
    "\n",
    "## Algorithms\n",
    "\n",
    "The project involved many rounds of data cleaning and exploration. Cleaning helped eliminate corrupt data, duplicates, erroneous data from turnstile resets and audits. Exploration looked at data repetitively for anything out of the ordinary like large minimums/maximums, and negative values. The program kept all data within + or - 2.7 standard deviations of the mean of each turnstile's entries or exits values.\n",
    "\n",
    "The model calculate an early 8-hour period (12:00-20:00) and late 8-hour period (04:00-23:59) of entries and exits for each turnstile. Every turnstile samples its counters at variable times, so the program uses a range to find each turnstile's 8-hour periods. For example, the early period starts between 8:00-12:00 and ends between 16:00-20:00. This way 2 8-hour periods are guaranteed from every turnstile. \n",
    "\n",
    "After the early and late periods were calculated, the values are aggregated per station. Then they are sorted for weekend days to only include Friday, Saturday, and Sunday. Finally an average for all Fridays/Saturdays/Sundays per station is calculated and those averages are sorted to determine the stations with the highest foot traffic.\n",
    "\n",
    "## Tools\n",
    "\n",
    "- SQL database\n",
    "- SQLAlchemy query via Python\n",
    "- Numpy and Pandas for data manipulation\n",
    "- Matplotlib and Seaborn for plotting\n",
    "\n",
    "## Communication\n",
    "\n",
    "Presentation slides, a written description, and code will uploaded to a github repo in addition to the live project presentation."
   ]
  }
 ],
 "metadata": {
  "kernelspec": {
   "display_name": "Python [conda env:metis] *",
   "language": "python",
   "name": "conda-env-metis-py"
  },
  "language_info": {
   "codemirror_mode": {
    "name": "ipython",
    "version": 3
   },
   "file_extension": ".py",
   "mimetype": "text/x-python",
   "name": "python",
   "nbconvert_exporter": "python",
   "pygments_lexer": "ipython3",
   "version": "3.8.10"
  }
 },
 "nbformat": 4,
 "nbformat_minor": 5
}
