{
 "cells": [
  {
   "cell_type": "markdown",
   "id": "1186c97a",
   "metadata": {},
   "source": [
    "# MVP\n",
    "## It's All in the Experience"
   ]
  },
  {
   "cell_type": "markdown",
   "id": "30bee3f3",
   "metadata": {},
   "source": [
    "The goal of this analysis is to discover the 7-hour afternoon/evening period with the highest throughput where musicians should perform on weekend days at MTA stations. "
   ]
  },
  {
   "cell_type": "markdown",
   "id": "11c4b206",
   "metadata": {},
   "source": [
    "Given the data available, the 7-hour period will be adjusted to 8 hours to encompass an afternoon period from 12-8pm and an evening period from 4pm-12am. After calculating entries and exits per turnstile over 8-hour periods, those totals are combined per station. This is tricky because while the turnstile captures its counter every 4 hours, the timestamp it uses is not standard. That means the afternoon 8-hour period does not end strictly at 8pm, but has a variable ending time of 4-7:59pm. Similarly, the evening 8-hour period ends between 8pm-11:59pm."
   ]
  },
  {
   "cell_type": "markdown",
   "id": "ab3c3fc6",
   "metadata": {},
   "source": [
    "The following shows the mean throughput of afternoon and evening periods of one station, over Friday, Saturday, and Sunday."
   ]
  },
  {
   "attachments": {},
   "cell_type": "markdown",
   "id": "1dc1d120",
   "metadata": {},
   "source": [
    "![caption](weekend_averages.png)"
   ]
  },
  {
   "cell_type": "markdown",
   "id": "7793d73f",
   "metadata": {},
   "source": [
    "Next steps are to do find the same afternoon and evening periods for every station, find averages for each station, then extract the top 20. "
   ]
  }
 ],
 "metadata": {
  "kernelspec": {
   "display_name": "Python [conda env:metis] *",
   "language": "python",
   "name": "conda-env-metis-py"
  },
  "language_info": {
   "codemirror_mode": {
    "name": "ipython",
    "version": 3
   },
   "file_extension": ".py",
   "mimetype": "text/x-python",
   "name": "python",
   "nbconvert_exporter": "python",
   "pygments_lexer": "ipython3",
   "version": "3.8.10"
  }
 },
 "nbformat": 4,
 "nbformat_minor": 5
}
